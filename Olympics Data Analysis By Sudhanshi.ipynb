{
 "cells": [
  {
   "cell_type": "markdown",
   "id": "f69bfddb",
   "metadata": {},
   "source": [
    "# <font color= Orange>Olympics Data Analysis<font/>\n",
    "\n",
    "## <font color= green>By Sudhanshi<font/>"
   ]
  },
  {
   "cell_type": "code",
   "execution_count": 1,
   "id": "9d8411c5",
   "metadata": {},
   "outputs": [],
   "source": [
    "import numpy as np\n",
    "import pandas as pd \n",
    "import matplotlib.pyplot as plt\n",
    "import seaborn as sns\n",
    "import warnings\n",
    "warnings.filterwarnings('ignore')"
   ]
  },
  {
   "cell_type": "code",
   "execution_count": 2,
   "id": "3471bdb5",
   "metadata": {},
   "outputs": [],
   "source": [
    "# Load dataset\n",
    "athletes = pd.read_csv('athlete_events.csv')\n",
    "regions= pd.read_csv('noc_regions.csv')"
   ]
  },
  {
   "cell_type": "code",
   "execution_count": 3,
   "id": "7e7a23f0",
   "metadata": {},
   "outputs": [],
   "source": [
    "pd.set_option('display.max_columns',None,'display.max_rows',None)"
   ]
  },
  {
   "cell_type": "code",
   "execution_count": null,
   "id": "dc5b012e",
   "metadata": {},
   "outputs": [],
   "source": [
    "athletes"
   ]
  },
  {
   "cell_type": "code",
   "execution_count": null,
   "id": "e834d9a8",
   "metadata": {},
   "outputs": [],
   "source": [
    "athletes.head()"
   ]
  },
  {
   "cell_type": "code",
   "execution_count": null,
   "id": "b692f130",
   "metadata": {},
   "outputs": [],
   "source": [
    "athletes.shape"
   ]
  },
  {
   "cell_type": "code",
   "execution_count": null,
   "id": "1ab5dc4e",
   "metadata": {},
   "outputs": [],
   "source": [
    "regions.head()"
   ]
  },
  {
   "cell_type": "code",
   "execution_count": null,
   "id": "1bf91b77",
   "metadata": {},
   "outputs": [],
   "source": [
    "# Join the dataframes\n",
    "athletes_df = athletes.merge(regions,how ='left',on ='NOC')"
   ]
  },
  {
   "cell_type": "code",
   "execution_count": null,
   "id": "6667e56c",
   "metadata": {},
   "outputs": [],
   "source": [
    "athletes_df.head()"
   ]
  },
  {
   "cell_type": "code",
   "execution_count": null,
   "id": "5059a5dc",
   "metadata": {},
   "outputs": [],
   "source": [
    "athletes_df.shape"
   ]
  },
  {
   "cell_type": "code",
   "execution_count": null,
   "id": "339d33cf",
   "metadata": {},
   "outputs": [],
   "source": [
    "athletes_df.isnull().sum()"
   ]
  },
  {
   "cell_type": "code",
   "execution_count": null,
   "id": "90c925cf",
   "metadata": {},
   "outputs": [],
   "source": [
    "fig=plt.figure(figsize=(18,4))\n",
    "missing = pd.DataFrame((athletes_df.isnull().sum())*100/athletes_df.shape[0]).reset_index()\n",
    "ax = sns.pointplot('index',0,data=missing)\n",
    "plt.xticks(rotation = 90,fontsize =13)\n",
    "plt.title(\"Percentage of Missing values\")\n",
    "plt.ylabel(\"PERCENTAGE\")\n",
    "fig.set_facecolor('pink')\n",
    "plt.show()"
   ]
  },
  {
   "cell_type": "code",
   "execution_count": null,
   "id": "dedecf7a",
   "metadata": {},
   "outputs": [],
   "source": [
    "athletes_df.rename(columns={'region':\"Region\",'notes':'Notes'},inplace=True)\n",
    "athletes_df.head()\n"
   ]
  },
  {
   "cell_type": "code",
   "execution_count": null,
   "id": "903e36db",
   "metadata": {},
   "outputs": [],
   "source": [
    "athletes_df.info()"
   ]
  },
  {
   "cell_type": "code",
   "execution_count": null,
   "id": "19eb9897",
   "metadata": {},
   "outputs": [],
   "source": [
    "athletes_df.describe()"
   ]
  },
  {
   "cell_type": "code",
   "execution_count": null,
   "id": "188e40b7",
   "metadata": {},
   "outputs": [],
   "source": [
    "print('Column Names:',athletes_df.columns)"
   ]
  },
  {
   "cell_type": "code",
   "execution_count": null,
   "id": "db28ef78",
   "metadata": {},
   "outputs": [],
   "source": [
    "# India Details\n",
    "athletes_df.query('Team == \"India\"').head()"
   ]
  },
  {
   "cell_type": "code",
   "execution_count": null,
   "id": "345ea385",
   "metadata": {},
   "outputs": [],
   "source": [
    "# Japan Details\n",
    "athletes_df.query('Team == \"Japan\"').head()"
   ]
  },
  {
   "cell_type": "code",
   "execution_count": null,
   "id": "1fa45dd9",
   "metadata": {},
   "outputs": [],
   "source": [
    "# Top 5 countries\n",
    "top_5_coun=athletes_df.Team.value_counts().sort_values(ascending= False).head(5)\n",
    "top_5_coun"
   ]
  },
  {
   "cell_type": "code",
   "execution_count": null,
   "id": "0330d344",
   "metadata": {},
   "outputs": [],
   "source": [
    "top_10_coun=athletes_df.Team.value_counts().sort_values(ascending= False).head(10)\n",
    "top_10_coun\n",
    "plt.figure(figsize=(12,8))\n",
    "sns.set(style='darkgrid')\n",
    "plt.xticks(rotation = 80,fontsize =15)\n",
    "plt.title('Top 10 participants countries in Olympics 2021')\n",
    "sns.barplot(x=top_10_coun.index,y=top_10_coun,palette='Spectral')\n",
    "plt.show()"
   ]
  },
  {
   "cell_type": "code",
   "execution_count": null,
   "id": "eab0ec35",
   "metadata": {},
   "outputs": [],
   "source": [
    "# Bottom 5 countries\n",
    "bot_5_coun=athletes_df.Team.value_counts().sort_values(ascending= True).head(5)\n",
    "bot_5_coun"
   ]
  },
  {
   "cell_type": "code",
   "execution_count": null,
   "id": "ac00b9a4",
   "metadata": {},
   "outputs": [],
   "source": [
    "plt.figure(figsize=(14,8))\n",
    "plt.title('Age Distribution of the athletes')\n",
    "plt.xlabel(' Age')\n",
    "plt.ylabel('Number of Participants')\n",
    "plt.grid(True)\n",
    "plt.hist(athletes_df.Age, bins = np.arange(10,80,3),color='r', edgecolor = 'white');"
   ]
  },
  {
   "cell_type": "code",
   "execution_count": null,
   "id": "f5683d17",
   "metadata": {},
   "outputs": [],
   "source": [
    "winter_sports=athletes_df[athletes_df.Season== 'Winter'].Sport.unique()\n",
    "winter_sports"
   ]
  },
  {
   "cell_type": "code",
   "execution_count": null,
   "id": "867c6f32",
   "metadata": {},
   "outputs": [],
   "source": [
    "Summer_sports=athletes_df[athletes_df.Season== 'Summer'].Sport.unique()\n",
    "Summer_sports"
   ]
  },
  {
   "cell_type": "code",
   "execution_count": null,
   "id": "4f3774ff",
   "metadata": {},
   "outputs": [],
   "source": [
    "athletes_df.Sex.value_counts()"
   ]
  },
  {
   "cell_type": "code",
   "execution_count": null,
   "id": "8480ccd4",
   "metadata": {},
   "outputs": [],
   "source": [
    "#Male and Female Athletes\n",
    "Gender_count=athletes_df.Sex.value_counts()\n",
    "plt.figure(figsize=(14,6))\n",
    "plt.title('Male and Female Athletes')\n",
    "plt.pie(Gender_count,labels=Gender_count.index,autopct='%1.1f%%',startangle=80,shadow=True)\n",
    "plt.show()"
   ]
  },
  {
   "cell_type": "code",
   "execution_count": null,
   "id": "30c0d868",
   "metadata": {},
   "outputs": [],
   "source": [
    "athletes_df.Medal.value_counts()"
   ]
  },
  {
   "cell_type": "code",
   "execution_count": null,
   "id": "0e7d0bb8",
   "metadata": {},
   "outputs": [],
   "source": [
    "female_athletes= athletes_df[(athletes_df.Sex=='F')&(athletes_df.Season=='Summer')][['Sex','Year']]\n",
    "female_athletes=female_atheletes.groupby('Year').count().reset_index()\n",
    "female_athletes.tail()"
   ]
  },
  {
   "cell_type": "code",
   "execution_count": null,
   "id": "f6aaaa8c",
   "metadata": {},
   "outputs": [],
   "source": [
    "male_atheletes= athletes_df[(athletes_df.Sex=='M')&(athletes_df.Season=='Summer')][['Sex','Year']]\n",
    "male_atheletes=male_atheletes.groupby('Year').count().reset_index()\n",
    "male_atheletes.tail()"
   ]
  },
  {
   "cell_type": "code",
   "execution_count": null,
   "id": "836f46b8",
   "metadata": {},
   "outputs": [],
   "source": [
    "women_olympics=athletes_df[(athletes_df.Sex=='F')&(athletes_df.Season == 'Summer')]\n",
    "sns.set(style='darkgrid')\n",
    "plt.figure(figsize=(18,8))\n",
    "sns.countplot(x='Year',data=women_olympics,palette='Set2')\n",
    "plt.title('Women Participation in Olympics')\n",
    "plt.xticks(rotation = 360,fontsize =15)\n",
    "plt.show()"
   ]
  },
  {
   "cell_type": "code",
   "execution_count": null,
   "id": "44237ad6",
   "metadata": {},
   "outputs": [],
   "source": [
    "part=women_olympics.groupby('Year')['Sex'].value_counts()\n",
    "plt.figure(figsize=(18,6))\n",
    "part.loc[:,'F'].plot()\n",
    "plt.title('Participation of female athlete')\n",
    "plt.show()"
   ]
  },
  {
   "cell_type": "code",
   "execution_count": null,
   "id": "6207a944",
   "metadata": {},
   "outputs": [],
   "source": [
    "man_olympics=athletes_df[(athletes_df.Sex=='M')&(athletes_df.Season == 'Summer')]\n",
    "sns.set(style='darkgrid')\n",
    "plt.figure(figsize=(18,8))\n",
    "sns.countplot(x='Year',data=man_olympics,palette='Spectral')\n",
    "plt.title('Man Participation in Olympics')\n",
    "plt.xticks(rotation = 360,fontsize =15)\n",
    "plt.show()"
   ]
  },
  {
   "cell_type": "code",
   "execution_count": null,
   "id": "70207371",
   "metadata": {},
   "outputs": [],
   "source": [
    "Gold_Medal=athletes_df[(athletes_df.Medal == 'Gold')]\n",
    "Gold_Medal"
   ]
  },
  {
   "cell_type": "code",
   "execution_count": null,
   "id": "311213fe",
   "metadata": {},
   "outputs": [],
   "source": [
    "Gold_Medal=Gold_Medal[np.isfinite(Gold_Medal['Age'])]"
   ]
  },
  {
   "cell_type": "code",
   "execution_count": null,
   "id": "eb40bff8",
   "metadata": {},
   "outputs": [],
   "source": [
    "# How many athletes secured gold medal beyond 60\n",
    "\n",
    "Gold_Medal['ID'][Gold_Medal['Age']>60].count()"
   ]
  },
  {
   "cell_type": "code",
   "execution_count": null,
   "id": "cc336fda",
   "metadata": {},
   "outputs": [],
   "source": [
    "#In which sports athletes secured gold medal who is beyond 60\n",
    "sport_event=Gold_Medal['Sport'][Gold_Medal['Age']>60]\n",
    "fig=plt.figure(figsize=(13,6))\n",
    "sns.countplot(sport_event,palette= 'rocket')\n",
    "plt.title('Gold medal for athleted over 60 years')\n",
    "plt.xticks(rotation = 360,fontsize = 12)\n",
    "plt.show()"
   ]
  },
  {
   "cell_type": "code",
   "execution_count": null,
   "id": "e23036fc",
   "metadata": {},
   "outputs": [],
   "source": [
    "totalgoldmedals= Gold_Medal.Region.value_counts().reset_index(name='Medal').head(5)\n",
    "totalgoldmedals"
   ]
  },
  {
   "cell_type": "code",
   "execution_count": null,
   "id": "194b8e7c",
   "metadata": {},
   "outputs": [],
   "source": []
  }
 ],
 "metadata": {
  "kernelspec": {
   "display_name": "Python 3",
   "language": "python",
   "name": "python3"
  },
  "language_info": {
   "codemirror_mode": {
    "name": "ipython",
    "version": 3
   },
   "file_extension": ".py",
   "mimetype": "text/x-python",
   "name": "python",
   "nbconvert_exporter": "python",
   "pygments_lexer": "ipython3",
   "version": "3.8.8"
  }
 },
 "nbformat": 4,
 "nbformat_minor": 5
}
